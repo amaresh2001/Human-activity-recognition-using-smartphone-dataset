{
  "nbformat": 4,
  "nbformat_minor": 0,
  "metadata": {
    "colab": {
      "name": "ml_mini_project.ipynb",
      "provenance": [],
      "collapsed_sections": []
    },
    "kernelspec": {
      "name": "python3",
      "display_name": "Python 3"
    },
    "language_info": {
      "name": "python"
    }
  },
  "cells": [
    {
      "cell_type": "markdown",
      "metadata": {
        "id": "9cGYjms2Zvg_"
      },
      "source": [
        "**Data Visualization**"
      ]
    },
    {
      "cell_type": "code",
      "metadata": {
        "id": "-RkHe4en9OMW"
      },
      "source": [
        "import numpy as np\n",
        "import pandas as pd\n",
        "from sklearn.linear_model import LogisticRegression\n",
        "from sklearn.neural_network import MLPClassifier\n",
        "from sklearn.model_selection import KFold\n",
        "from sklearn.metrics import plot_confusion_matrix\n",
        "from sklearn import metrics\n",
        "import matplotlib.pyplot as plt\n",
        "import seaborn as sns"
      ],
      "execution_count": null,
      "outputs": []
    },
    {
      "cell_type": "markdown",
      "metadata": {
        "id": "GaRG2c_AZ9-L"
      },
      "source": [
        "**Features:**"
      ]
    },
    {
      "cell_type": "code",
      "metadata": {
        "id": "Fc6AJG4maX-E",
        "colab": {
          "base_uri": "https://localhost:8080/"
        },
        "outputId": "4a15c61b-a4b6-44c0-cc3c-caa2da5c2f6d"
      },
      "source": [
        "features = list()\n",
        "with open(\"features.txt\") as f:\n",
        "    features = [line.split()[1] for line in f.readlines()]    \n",
        "print(\"Number of Features: {}\".format(len(features)))\n",
        "features"
      ],
      "execution_count": null,
      "outputs": [
        {
          "output_type": "stream",
          "name": "stdout",
          "text": [
            "Number of Features: 561\n"
          ]
        },
        {
          "output_type": "execute_result",
          "data": {
            "text/plain": [
              "['tBodyAcc-mean()-X',\n",
              " 'tBodyAcc-mean()-Y',\n",
              " 'tBodyAcc-mean()-Z',\n",
              " 'tBodyAcc-std()-X',\n",
              " 'tBodyAcc-std()-Y',\n",
              " 'tBodyAcc-std()-Z',\n",
              " 'tBodyAcc-mad()-X',\n",
              " 'tBodyAcc-mad()-Y',\n",
              " 'tBodyAcc-mad()-Z',\n",
              " 'tBodyAcc-max()-X',\n",
              " 'tBodyAcc-max()-Y',\n",
              " 'tBodyAcc-max()-Z',\n",
              " 'tBodyAcc-min()-X',\n",
              " 'tBodyAcc-min()-Y',\n",
              " 'tBodyAcc-min()-Z',\n",
              " 'tBodyAcc-sma()',\n",
              " 'tBodyAcc-energy()-X',\n",
              " 'tBodyAcc-energy()-Y',\n",
              " 'tBodyAcc-energy()-Z',\n",
              " 'tBodyAcc-iqr()-X',\n",
              " 'tBodyAcc-iqr()-Y',\n",
              " 'tBodyAcc-iqr()-Z',\n",
              " 'tBodyAcc-entropy()-X',\n",
              " 'tBodyAcc-entropy()-Y',\n",
              " 'tBodyAcc-entropy()-Z',\n",
              " 'tBodyAcc-arCoeff()-X,1',\n",
              " 'tBodyAcc-arCoeff()-X,2',\n",
              " 'tBodyAcc-arCoeff()-X,3',\n",
              " 'tBodyAcc-arCoeff()-X,4',\n",
              " 'tBodyAcc-arCoeff()-Y,1',\n",
              " 'tBodyAcc-arCoeff()-Y,2',\n",
              " 'tBodyAcc-arCoeff()-Y,3',\n",
              " 'tBodyAcc-arCoeff()-Y,4',\n",
              " 'tBodyAcc-arCoeff()-Z,1',\n",
              " 'tBodyAcc-arCoeff()-Z,2',\n",
              " 'tBodyAcc-arCoeff()-Z,3',\n",
              " 'tBodyAcc-arCoeff()-Z,4',\n",
              " 'tBodyAcc-correlation()-X,Y',\n",
              " 'tBodyAcc-correlation()-X,Z',\n",
              " 'tBodyAcc-correlation()-Y,Z',\n",
              " 'tGravityAcc-mean()-X',\n",
              " 'tGravityAcc-mean()-Y',\n",
              " 'tGravityAcc-mean()-Z',\n",
              " 'tGravityAcc-std()-X',\n",
              " 'tGravityAcc-std()-Y',\n",
              " 'tGravityAcc-std()-Z',\n",
              " 'tGravityAcc-mad()-X',\n",
              " 'tGravityAcc-mad()-Y',\n",
              " 'tGravityAcc-mad()-Z',\n",
              " 'tGravityAcc-max()-X',\n",
              " 'tGravityAcc-max()-Y',\n",
              " 'tGravityAcc-max()-Z',\n",
              " 'tGravityAcc-min()-X',\n",
              " 'tGravityAcc-min()-Y',\n",
              " 'tGravityAcc-min()-Z',\n",
              " 'tGravityAcc-sma()',\n",
              " 'tGravityAcc-energy()-X',\n",
              " 'tGravityAcc-energy()-Y',\n",
              " 'tGravityAcc-energy()-Z',\n",
              " 'tGravityAcc-iqr()-X',\n",
              " 'tGravityAcc-iqr()-Y',\n",
              " 'tGravityAcc-iqr()-Z',\n",
              " 'tGravityAcc-entropy()-X',\n",
              " 'tGravityAcc-entropy()-Y',\n",
              " 'tGravityAcc-entropy()-Z',\n",
              " 'tGravityAcc-arCoeff()-X,1',\n",
              " 'tGravityAcc-arCoeff()-X,2',\n",
              " 'tGravityAcc-arCoeff()-X,3',\n",
              " 'tGravityAcc-arCoeff()-X,4',\n",
              " 'tGravityAcc-arCoeff()-Y,1',\n",
              " 'tGravityAcc-arCoeff()-Y,2',\n",
              " 'tGravityAcc-arCoeff()-Y,3',\n",
              " 'tGravityAcc-arCoeff()-Y,4',\n",
              " 'tGravityAcc-arCoeff()-Z,1',\n",
              " 'tGravityAcc-arCoeff()-Z,2',\n",
              " 'tGravityAcc-arCoeff()-Z,3',\n",
              " 'tGravityAcc-arCoeff()-Z,4',\n",
              " 'tGravityAcc-correlation()-X,Y',\n",
              " 'tGravityAcc-correlation()-X,Z',\n",
              " 'tGravityAcc-correlation()-Y,Z',\n",
              " 'tBodyAccJerk-mean()-X',\n",
              " 'tBodyAccJerk-mean()-Y',\n",
              " 'tBodyAccJerk-mean()-Z',\n",
              " 'tBodyAccJerk-std()-X',\n",
              " 'tBodyAccJerk-std()-Y',\n",
              " 'tBodyAccJerk-std()-Z',\n",
              " 'tBodyAccJerk-mad()-X',\n",
              " 'tBodyAccJerk-mad()-Y',\n",
              " 'tBodyAccJerk-mad()-Z',\n",
              " 'tBodyAccJerk-max()-X',\n",
              " 'tBodyAccJerk-max()-Y',\n",
              " 'tBodyAccJerk-max()-Z',\n",
              " 'tBodyAccJerk-min()-X',\n",
              " 'tBodyAccJerk-min()-Y',\n",
              " 'tBodyAccJerk-min()-Z',\n",
              " 'tBodyAccJerk-sma()',\n",
              " 'tBodyAccJerk-energy()-X',\n",
              " 'tBodyAccJerk-energy()-Y',\n",
              " 'tBodyAccJerk-energy()-Z',\n",
              " 'tBodyAccJerk-iqr()-X',\n",
              " 'tBodyAccJerk-iqr()-Y',\n",
              " 'tBodyAccJerk-iqr()-Z',\n",
              " 'tBodyAccJerk-entropy()-X',\n",
              " 'tBodyAccJerk-entropy()-Y',\n",
              " 'tBodyAccJerk-entropy()-Z',\n",
              " 'tBodyAccJerk-arCoeff()-X,1',\n",
              " 'tBodyAccJerk-arCoeff()-X,2',\n",
              " 'tBodyAccJerk-arCoeff()-X,3',\n",
              " 'tBodyAccJerk-arCoeff()-X,4',\n",
              " 'tBodyAccJerk-arCoeff()-Y,1',\n",
              " 'tBodyAccJerk-arCoeff()-Y,2',\n",
              " 'tBodyAccJerk-arCoeff()-Y,3',\n",
              " 'tBodyAccJerk-arCoeff()-Y,4',\n",
              " 'tBodyAccJerk-arCoeff()-Z,1',\n",
              " 'tBodyAccJerk-arCoeff()-Z,2',\n",
              " 'tBodyAccJerk-arCoeff()-Z,3',\n",
              " 'tBodyAccJerk-arCoeff()-Z,4',\n",
              " 'tBodyAccJerk-correlation()-X,Y',\n",
              " 'tBodyAccJerk-correlation()-X,Z',\n",
              " 'tBodyAccJerk-correlation()-Y,Z',\n",
              " 'tBodyGyro-mean()-X',\n",
              " 'tBodyGyro-mean()-Y',\n",
              " 'tBodyGyro-mean()-Z',\n",
              " 'tBodyGyro-std()-X',\n",
              " 'tBodyGyro-std()-Y',\n",
              " 'tBodyGyro-std()-Z',\n",
              " 'tBodyGyro-mad()-X',\n",
              " 'tBodyGyro-mad()-Y',\n",
              " 'tBodyGyro-mad()-Z',\n",
              " 'tBodyGyro-max()-X',\n",
              " 'tBodyGyro-max()-Y',\n",
              " 'tBodyGyro-max()-Z',\n",
              " 'tBodyGyro-min()-X',\n",
              " 'tBodyGyro-min()-Y',\n",
              " 'tBodyGyro-min()-Z',\n",
              " 'tBodyGyro-sma()',\n",
              " 'tBodyGyro-energy()-X',\n",
              " 'tBodyGyro-energy()-Y',\n",
              " 'tBodyGyro-energy()-Z',\n",
              " 'tBodyGyro-iqr()-X',\n",
              " 'tBodyGyro-iqr()-Y',\n",
              " 'tBodyGyro-iqr()-Z',\n",
              " 'tBodyGyro-entropy()-X',\n",
              " 'tBodyGyro-entropy()-Y',\n",
              " 'tBodyGyro-entropy()-Z',\n",
              " 'tBodyGyro-arCoeff()-X,1',\n",
              " 'tBodyGyro-arCoeff()-X,2',\n",
              " 'tBodyGyro-arCoeff()-X,3',\n",
              " 'tBodyGyro-arCoeff()-X,4',\n",
              " 'tBodyGyro-arCoeff()-Y,1',\n",
              " 'tBodyGyro-arCoeff()-Y,2',\n",
              " 'tBodyGyro-arCoeff()-Y,3',\n",
              " 'tBodyGyro-arCoeff()-Y,4',\n",
              " 'tBodyGyro-arCoeff()-Z,1',\n",
              " 'tBodyGyro-arCoeff()-Z,2',\n",
              " 'tBodyGyro-arCoeff()-Z,3',\n",
              " 'tBodyGyro-arCoeff()-Z,4',\n",
              " 'tBodyGyro-correlation()-X,Y',\n",
              " 'tBodyGyro-correlation()-X,Z',\n",
              " 'tBodyGyro-correlation()-Y,Z',\n",
              " 'tBodyGyroJerk-mean()-X',\n",
              " 'tBodyGyroJerk-mean()-Y',\n",
              " 'tBodyGyroJerk-mean()-Z',\n",
              " 'tBodyGyroJerk-std()-X',\n",
              " 'tBodyGyroJerk-std()-Y',\n",
              " 'tBodyGyroJerk-std()-Z',\n",
              " 'tBodyGyroJerk-mad()-X',\n",
              " 'tBodyGyroJerk-mad()-Y',\n",
              " 'tBodyGyroJerk-mad()-Z',\n",
              " 'tBodyGyroJerk-max()-X',\n",
              " 'tBodyGyroJerk-max()-Y',\n",
              " 'tBodyGyroJerk-max()-Z',\n",
              " 'tBodyGyroJerk-min()-X',\n",
              " 'tBodyGyroJerk-min()-Y',\n",
              " 'tBodyGyroJerk-min()-Z',\n",
              " 'tBodyGyroJerk-sma()',\n",
              " 'tBodyGyroJerk-energy()-X',\n",
              " 'tBodyGyroJerk-energy()-Y',\n",
              " 'tBodyGyroJerk-energy()-Z',\n",
              " 'tBodyGyroJerk-iqr()-X',\n",
              " 'tBodyGyroJerk-iqr()-Y',\n",
              " 'tBodyGyroJerk-iqr()-Z',\n",
              " 'tBodyGyroJerk-entropy()-X',\n",
              " 'tBodyGyroJerk-entropy()-Y',\n",
              " 'tBodyGyroJerk-entropy()-Z',\n",
              " 'tBodyGyroJerk-arCoeff()-X,1',\n",
              " 'tBodyGyroJerk-arCoeff()-X,2',\n",
              " 'tBodyGyroJerk-arCoeff()-X,3',\n",
              " 'tBodyGyroJerk-arCoeff()-X,4',\n",
              " 'tBodyGyroJerk-arCoeff()-Y,1',\n",
              " 'tBodyGyroJerk-arCoeff()-Y,2',\n",
              " 'tBodyGyroJerk-arCoeff()-Y,3',\n",
              " 'tBodyGyroJerk-arCoeff()-Y,4',\n",
              " 'tBodyGyroJerk-arCoeff()-Z,1',\n",
              " 'tBodyGyroJerk-arCoeff()-Z,2',\n",
              " 'tBodyGyroJerk-arCoeff()-Z,3',\n",
              " 'tBodyGyroJerk-arCoeff()-Z,4',\n",
              " 'tBodyGyroJerk-correlation()-X,Y',\n",
              " 'tBodyGyroJerk-correlation()-X,Z',\n",
              " 'tBodyGyroJerk-correlation()-Y,Z',\n",
              " 'tBodyAccMag-mean()',\n",
              " 'tBodyAccMag-std()',\n",
              " 'tBodyAccMag-mad()',\n",
              " 'tBodyAccMag-max()',\n",
              " 'tBodyAccMag-min()',\n",
              " 'tBodyAccMag-sma()',\n",
              " 'tBodyAccMag-energy()',\n",
              " 'tBodyAccMag-iqr()',\n",
              " 'tBodyAccMag-entropy()',\n",
              " 'tBodyAccMag-arCoeff()1',\n",
              " 'tBodyAccMag-arCoeff()2',\n",
              " 'tBodyAccMag-arCoeff()3',\n",
              " 'tBodyAccMag-arCoeff()4',\n",
              " 'tGravityAccMag-mean()',\n",
              " 'tGravityAccMag-std()',\n",
              " 'tGravityAccMag-mad()',\n",
              " 'tGravityAccMag-max()',\n",
              " 'tGravityAccMag-min()',\n",
              " 'tGravityAccMag-sma()',\n",
              " 'tGravityAccMag-energy()',\n",
              " 'tGravityAccMag-iqr()',\n",
              " 'tGravityAccMag-entropy()',\n",
              " 'tGravityAccMag-arCoeff()1',\n",
              " 'tGravityAccMag-arCoeff()2',\n",
              " 'tGravityAccMag-arCoeff()3',\n",
              " 'tGravityAccMag-arCoeff()4',\n",
              " 'tBodyAccJerkMag-mean()',\n",
              " 'tBodyAccJerkMag-std()',\n",
              " 'tBodyAccJerkMag-mad()',\n",
              " 'tBodyAccJerkMag-max()',\n",
              " 'tBodyAccJerkMag-min()',\n",
              " 'tBodyAccJerkMag-sma()',\n",
              " 'tBodyAccJerkMag-energy()',\n",
              " 'tBodyAccJerkMag-iqr()',\n",
              " 'tBodyAccJerkMag-entropy()',\n",
              " 'tBodyAccJerkMag-arCoeff()1',\n",
              " 'tBodyAccJerkMag-arCoeff()2',\n",
              " 'tBodyAccJerkMag-arCoeff()3',\n",
              " 'tBodyAccJerkMag-arCoeff()4',\n",
              " 'tBodyGyroMag-mean()',\n",
              " 'tBodyGyroMag-std()',\n",
              " 'tBodyGyroMag-mad()',\n",
              " 'tBodyGyroMag-max()',\n",
              " 'tBodyGyroMag-min()',\n",
              " 'tBodyGyroMag-sma()',\n",
              " 'tBodyGyroMag-energy()',\n",
              " 'tBodyGyroMag-iqr()',\n",
              " 'tBodyGyroMag-entropy()',\n",
              " 'tBodyGyroMag-arCoeff()1',\n",
              " 'tBodyGyroMag-arCoeff()2',\n",
              " 'tBodyGyroMag-arCoeff()3',\n",
              " 'tBodyGyroMag-arCoeff()4',\n",
              " 'tBodyGyroJerkMag-mean()',\n",
              " 'tBodyGyroJerkMag-std()',\n",
              " 'tBodyGyroJerkMag-mad()',\n",
              " 'tBodyGyroJerkMag-max()',\n",
              " 'tBodyGyroJerkMag-min()',\n",
              " 'tBodyGyroJerkMag-sma()',\n",
              " 'tBodyGyroJerkMag-energy()',\n",
              " 'tBodyGyroJerkMag-iqr()',\n",
              " 'tBodyGyroJerkMag-entropy()',\n",
              " 'tBodyGyroJerkMag-arCoeff()1',\n",
              " 'tBodyGyroJerkMag-arCoeff()2',\n",
              " 'tBodyGyroJerkMag-arCoeff()3',\n",
              " 'tBodyGyroJerkMag-arCoeff()4',\n",
              " 'fBodyAcc-mean()-X',\n",
              " 'fBodyAcc-mean()-Y',\n",
              " 'fBodyAcc-mean()-Z',\n",
              " 'fBodyAcc-std()-X',\n",
              " 'fBodyAcc-std()-Y',\n",
              " 'fBodyAcc-std()-Z',\n",
              " 'fBodyAcc-mad()-X',\n",
              " 'fBodyAcc-mad()-Y',\n",
              " 'fBodyAcc-mad()-Z',\n",
              " 'fBodyAcc-max()-X',\n",
              " 'fBodyAcc-max()-Y',\n",
              " 'fBodyAcc-max()-Z',\n",
              " 'fBodyAcc-min()-X',\n",
              " 'fBodyAcc-min()-Y',\n",
              " 'fBodyAcc-min()-Z',\n",
              " 'fBodyAcc-sma()',\n",
              " 'fBodyAcc-energy()-X',\n",
              " 'fBodyAcc-energy()-Y',\n",
              " 'fBodyAcc-energy()-Z',\n",
              " 'fBodyAcc-iqr()-X',\n",
              " 'fBodyAcc-iqr()-Y',\n",
              " 'fBodyAcc-iqr()-Z',\n",
              " 'fBodyAcc-entropy()-X',\n",
              " 'fBodyAcc-entropy()-Y',\n",
              " 'fBodyAcc-entropy()-Z',\n",
              " 'fBodyAcc-maxInds-X',\n",
              " 'fBodyAcc-maxInds-Y',\n",
              " 'fBodyAcc-maxInds-Z',\n",
              " 'fBodyAcc-meanFreq()-X',\n",
              " 'fBodyAcc-meanFreq()-Y',\n",
              " 'fBodyAcc-meanFreq()-Z',\n",
              " 'fBodyAcc-skewness()-X',\n",
              " 'fBodyAcc-kurtosis()-X',\n",
              " 'fBodyAcc-skewness()-Y',\n",
              " 'fBodyAcc-kurtosis()-Y',\n",
              " 'fBodyAcc-skewness()-Z',\n",
              " 'fBodyAcc-kurtosis()-Z',\n",
              " 'fBodyAcc-bandsEnergy()-1,8',\n",
              " 'fBodyAcc-bandsEnergy()-9,16',\n",
              " 'fBodyAcc-bandsEnergy()-17,24',\n",
              " 'fBodyAcc-bandsEnergy()-25,32',\n",
              " 'fBodyAcc-bandsEnergy()-33,40',\n",
              " 'fBodyAcc-bandsEnergy()-41,48',\n",
              " 'fBodyAcc-bandsEnergy()-49,56',\n",
              " 'fBodyAcc-bandsEnergy()-57,64',\n",
              " 'fBodyAcc-bandsEnergy()-1,16',\n",
              " 'fBodyAcc-bandsEnergy()-17,32',\n",
              " 'fBodyAcc-bandsEnergy()-33,48',\n",
              " 'fBodyAcc-bandsEnergy()-49,64',\n",
              " 'fBodyAcc-bandsEnergy()-1,24',\n",
              " 'fBodyAcc-bandsEnergy()-25,48',\n",
              " 'fBodyAcc-bandsEnergy()-1,8',\n",
              " 'fBodyAcc-bandsEnergy()-9,16',\n",
              " 'fBodyAcc-bandsEnergy()-17,24',\n",
              " 'fBodyAcc-bandsEnergy()-25,32',\n",
              " 'fBodyAcc-bandsEnergy()-33,40',\n",
              " 'fBodyAcc-bandsEnergy()-41,48',\n",
              " 'fBodyAcc-bandsEnergy()-49,56',\n",
              " 'fBodyAcc-bandsEnergy()-57,64',\n",
              " 'fBodyAcc-bandsEnergy()-1,16',\n",
              " 'fBodyAcc-bandsEnergy()-17,32',\n",
              " 'fBodyAcc-bandsEnergy()-33,48',\n",
              " 'fBodyAcc-bandsEnergy()-49,64',\n",
              " 'fBodyAcc-bandsEnergy()-1,24',\n",
              " 'fBodyAcc-bandsEnergy()-25,48',\n",
              " 'fBodyAcc-bandsEnergy()-1,8',\n",
              " 'fBodyAcc-bandsEnergy()-9,16',\n",
              " 'fBodyAcc-bandsEnergy()-17,24',\n",
              " 'fBodyAcc-bandsEnergy()-25,32',\n",
              " 'fBodyAcc-bandsEnergy()-33,40',\n",
              " 'fBodyAcc-bandsEnergy()-41,48',\n",
              " 'fBodyAcc-bandsEnergy()-49,56',\n",
              " 'fBodyAcc-bandsEnergy()-57,64',\n",
              " 'fBodyAcc-bandsEnergy()-1,16',\n",
              " 'fBodyAcc-bandsEnergy()-17,32',\n",
              " 'fBodyAcc-bandsEnergy()-33,48',\n",
              " 'fBodyAcc-bandsEnergy()-49,64',\n",
              " 'fBodyAcc-bandsEnergy()-1,24',\n",
              " 'fBodyAcc-bandsEnergy()-25,48',\n",
              " 'fBodyAccJerk-mean()-X',\n",
              " 'fBodyAccJerk-mean()-Y',\n",
              " 'fBodyAccJerk-mean()-Z',\n",
              " 'fBodyAccJerk-std()-X',\n",
              " 'fBodyAccJerk-std()-Y',\n",
              " 'fBodyAccJerk-std()-Z',\n",
              " 'fBodyAccJerk-mad()-X',\n",
              " 'fBodyAccJerk-mad()-Y',\n",
              " 'fBodyAccJerk-mad()-Z',\n",
              " 'fBodyAccJerk-max()-X',\n",
              " 'fBodyAccJerk-max()-Y',\n",
              " 'fBodyAccJerk-max()-Z',\n",
              " 'fBodyAccJerk-min()-X',\n",
              " 'fBodyAccJerk-min()-Y',\n",
              " 'fBodyAccJerk-min()-Z',\n",
              " 'fBodyAccJerk-sma()',\n",
              " 'fBodyAccJerk-energy()-X',\n",
              " 'fBodyAccJerk-energy()-Y',\n",
              " 'fBodyAccJerk-energy()-Z',\n",
              " 'fBodyAccJerk-iqr()-X',\n",
              " 'fBodyAccJerk-iqr()-Y',\n",
              " 'fBodyAccJerk-iqr()-Z',\n",
              " 'fBodyAccJerk-entropy()-X',\n",
              " 'fBodyAccJerk-entropy()-Y',\n",
              " 'fBodyAccJerk-entropy()-Z',\n",
              " 'fBodyAccJerk-maxInds-X',\n",
              " 'fBodyAccJerk-maxInds-Y',\n",
              " 'fBodyAccJerk-maxInds-Z',\n",
              " 'fBodyAccJerk-meanFreq()-X',\n",
              " 'fBodyAccJerk-meanFreq()-Y',\n",
              " 'fBodyAccJerk-meanFreq()-Z',\n",
              " 'fBodyAccJerk-skewness()-X',\n",
              " 'fBodyAccJerk-kurtosis()-X',\n",
              " 'fBodyAccJerk-skewness()-Y',\n",
              " 'fBodyAccJerk-kurtosis()-Y',\n",
              " 'fBodyAccJerk-skewness()-Z',\n",
              " 'fBodyAccJerk-kurtosis()-Z',\n",
              " 'fBodyAccJerk-bandsEnergy()-1,8',\n",
              " 'fBodyAccJerk-bandsEnergy()-9,16',\n",
              " 'fBodyAccJerk-bandsEnergy()-17,24',\n",
              " 'fBodyAccJerk-bandsEnergy()-25,32',\n",
              " 'fBodyAccJerk-bandsEnergy()-33,40',\n",
              " 'fBodyAccJerk-bandsEnergy()-41,48',\n",
              " 'fBodyAccJerk-bandsEnergy()-49,56',\n",
              " 'fBodyAccJerk-bandsEnergy()-57,64',\n",
              " 'fBodyAccJerk-bandsEnergy()-1,16',\n",
              " 'fBodyAccJerk-bandsEnergy()-17,32',\n",
              " 'fBodyAccJerk-bandsEnergy()-33,48',\n",
              " 'fBodyAccJerk-bandsEnergy()-49,64',\n",
              " 'fBodyAccJerk-bandsEnergy()-1,24',\n",
              " 'fBodyAccJerk-bandsEnergy()-25,48',\n",
              " 'fBodyAccJerk-bandsEnergy()-1,8',\n",
              " 'fBodyAccJerk-bandsEnergy()-9,16',\n",
              " 'fBodyAccJerk-bandsEnergy()-17,24',\n",
              " 'fBodyAccJerk-bandsEnergy()-25,32',\n",
              " 'fBodyAccJerk-bandsEnergy()-33,40',\n",
              " 'fBodyAccJerk-bandsEnergy()-41,48',\n",
              " 'fBodyAccJerk-bandsEnergy()-49,56',\n",
              " 'fBodyAccJerk-bandsEnergy()-57,64',\n",
              " 'fBodyAccJerk-bandsEnergy()-1,16',\n",
              " 'fBodyAccJerk-bandsEnergy()-17,32',\n",
              " 'fBodyAccJerk-bandsEnergy()-33,48',\n",
              " 'fBodyAccJerk-bandsEnergy()-49,64',\n",
              " 'fBodyAccJerk-bandsEnergy()-1,24',\n",
              " 'fBodyAccJerk-bandsEnergy()-25,48',\n",
              " 'fBodyAccJerk-bandsEnergy()-1,8',\n",
              " 'fBodyAccJerk-bandsEnergy()-9,16',\n",
              " 'fBodyAccJerk-bandsEnergy()-17,24',\n",
              " 'fBodyAccJerk-bandsEnergy()-25,32',\n",
              " 'fBodyAccJerk-bandsEnergy()-33,40',\n",
              " 'fBodyAccJerk-bandsEnergy()-41,48',\n",
              " 'fBodyAccJerk-bandsEnergy()-49,56',\n",
              " 'fBodyAccJerk-bandsEnergy()-57,64',\n",
              " 'fBodyAccJerk-bandsEnergy()-1,16',\n",
              " 'fBodyAccJerk-bandsEnergy()-17,32',\n",
              " 'fBodyAccJerk-bandsEnergy()-33,48',\n",
              " 'fBodyAccJerk-bandsEnergy()-49,64',\n",
              " 'fBodyAccJerk-bandsEnergy()-1,24',\n",
              " 'fBodyAccJerk-bandsEnergy()-25,48',\n",
              " 'fBodyGyro-mean()-X',\n",
              " 'fBodyGyro-mean()-Y',\n",
              " 'fBodyGyro-mean()-Z',\n",
              " 'fBodyGyro-std()-X',\n",
              " 'fBodyGyro-std()-Y',\n",
              " 'fBodyGyro-std()-Z',\n",
              " 'fBodyGyro-mad()-X',\n",
              " 'fBodyGyro-mad()-Y',\n",
              " 'fBodyGyro-mad()-Z',\n",
              " 'fBodyGyro-max()-X',\n",
              " 'fBodyGyro-max()-Y',\n",
              " 'fBodyGyro-max()-Z',\n",
              " 'fBodyGyro-min()-X',\n",
              " 'fBodyGyro-min()-Y',\n",
              " 'fBodyGyro-min()-Z',\n",
              " 'fBodyGyro-sma()',\n",
              " 'fBodyGyro-energy()-X',\n",
              " 'fBodyGyro-energy()-Y',\n",
              " 'fBodyGyro-energy()-Z',\n",
              " 'fBodyGyro-iqr()-X',\n",
              " 'fBodyGyro-iqr()-Y',\n",
              " 'fBodyGyro-iqr()-Z',\n",
              " 'fBodyGyro-entropy()-X',\n",
              " 'fBodyGyro-entropy()-Y',\n",
              " 'fBodyGyro-entropy()-Z',\n",
              " 'fBodyGyro-maxInds-X',\n",
              " 'fBodyGyro-maxInds-Y',\n",
              " 'fBodyGyro-maxInds-Z',\n",
              " 'fBodyGyro-meanFreq()-X',\n",
              " 'fBodyGyro-meanFreq()-Y',\n",
              " 'fBodyGyro-meanFreq()-Z',\n",
              " 'fBodyGyro-skewness()-X',\n",
              " 'fBodyGyro-kurtosis()-X',\n",
              " 'fBodyGyro-skewness()-Y',\n",
              " 'fBodyGyro-kurtosis()-Y',\n",
              " 'fBodyGyro-skewness()-Z',\n",
              " 'fBodyGyro-kurtosis()-Z',\n",
              " 'fBodyGyro-bandsEnergy()-1,8',\n",
              " 'fBodyGyro-bandsEnergy()-9,16',\n",
              " 'fBodyGyro-bandsEnergy()-17,24',\n",
              " 'fBodyGyro-bandsEnergy()-25,32',\n",
              " 'fBodyGyro-bandsEnergy()-33,40',\n",
              " 'fBodyGyro-bandsEnergy()-41,48',\n",
              " 'fBodyGyro-bandsEnergy()-49,56',\n",
              " 'fBodyGyro-bandsEnergy()-57,64',\n",
              " 'fBodyGyro-bandsEnergy()-1,16',\n",
              " 'fBodyGyro-bandsEnergy()-17,32',\n",
              " 'fBodyGyro-bandsEnergy()-33,48',\n",
              " 'fBodyGyro-bandsEnergy()-49,64',\n",
              " 'fBodyGyro-bandsEnergy()-1,24',\n",
              " 'fBodyGyro-bandsEnergy()-25,48',\n",
              " 'fBodyGyro-bandsEnergy()-1,8',\n",
              " 'fBodyGyro-bandsEnergy()-9,16',\n",
              " 'fBodyGyro-bandsEnergy()-17,24',\n",
              " 'fBodyGyro-bandsEnergy()-25,32',\n",
              " 'fBodyGyro-bandsEnergy()-33,40',\n",
              " 'fBodyGyro-bandsEnergy()-41,48',\n",
              " 'fBodyGyro-bandsEnergy()-49,56',\n",
              " 'fBodyGyro-bandsEnergy()-57,64',\n",
              " 'fBodyGyro-bandsEnergy()-1,16',\n",
              " 'fBodyGyro-bandsEnergy()-17,32',\n",
              " 'fBodyGyro-bandsEnergy()-33,48',\n",
              " 'fBodyGyro-bandsEnergy()-49,64',\n",
              " 'fBodyGyro-bandsEnergy()-1,24',\n",
              " 'fBodyGyro-bandsEnergy()-25,48',\n",
              " 'fBodyGyro-bandsEnergy()-1,8',\n",
              " 'fBodyGyro-bandsEnergy()-9,16',\n",
              " 'fBodyGyro-bandsEnergy()-17,24',\n",
              " 'fBodyGyro-bandsEnergy()-25,32',\n",
              " 'fBodyGyro-bandsEnergy()-33,40',\n",
              " 'fBodyGyro-bandsEnergy()-41,48',\n",
              " 'fBodyGyro-bandsEnergy()-49,56',\n",
              " 'fBodyGyro-bandsEnergy()-57,64',\n",
              " 'fBodyGyro-bandsEnergy()-1,16',\n",
              " 'fBodyGyro-bandsEnergy()-17,32',\n",
              " 'fBodyGyro-bandsEnergy()-33,48',\n",
              " 'fBodyGyro-bandsEnergy()-49,64',\n",
              " 'fBodyGyro-bandsEnergy()-1,24',\n",
              " 'fBodyGyro-bandsEnergy()-25,48',\n",
              " 'fBodyAccMag-mean()',\n",
              " 'fBodyAccMag-std()',\n",
              " 'fBodyAccMag-mad()',\n",
              " 'fBodyAccMag-max()',\n",
              " 'fBodyAccMag-min()',\n",
              " 'fBodyAccMag-sma()',\n",
              " 'fBodyAccMag-energy()',\n",
              " 'fBodyAccMag-iqr()',\n",
              " 'fBodyAccMag-entropy()',\n",
              " 'fBodyAccMag-maxInds',\n",
              " 'fBodyAccMag-meanFreq()',\n",
              " 'fBodyAccMag-skewness()',\n",
              " 'fBodyAccMag-kurtosis()',\n",
              " 'fBodyBodyAccJerkMag-mean()',\n",
              " 'fBodyBodyAccJerkMag-std()',\n",
              " 'fBodyBodyAccJerkMag-mad()',\n",
              " 'fBodyBodyAccJerkMag-max()',\n",
              " 'fBodyBodyAccJerkMag-min()',\n",
              " 'fBodyBodyAccJerkMag-sma()',\n",
              " 'fBodyBodyAccJerkMag-energy()',\n",
              " 'fBodyBodyAccJerkMag-iqr()',\n",
              " 'fBodyBodyAccJerkMag-entropy()',\n",
              " 'fBodyBodyAccJerkMag-maxInds',\n",
              " 'fBodyBodyAccJerkMag-meanFreq()',\n",
              " 'fBodyBodyAccJerkMag-skewness()',\n",
              " 'fBodyBodyAccJerkMag-kurtosis()',\n",
              " 'fBodyBodyGyroMag-mean()',\n",
              " 'fBodyBodyGyroMag-std()',\n",
              " 'fBodyBodyGyroMag-mad()',\n",
              " 'fBodyBodyGyroMag-max()',\n",
              " 'fBodyBodyGyroMag-min()',\n",
              " 'fBodyBodyGyroMag-sma()',\n",
              " 'fBodyBodyGyroMag-energy()',\n",
              " 'fBodyBodyGyroMag-iqr()',\n",
              " 'fBodyBodyGyroMag-entropy()',\n",
              " 'fBodyBodyGyroMag-maxInds',\n",
              " 'fBodyBodyGyroMag-meanFreq()',\n",
              " 'fBodyBodyGyroMag-skewness()',\n",
              " 'fBodyBodyGyroMag-kurtosis()',\n",
              " 'fBodyBodyGyroJerkMag-mean()',\n",
              " 'fBodyBodyGyroJerkMag-std()',\n",
              " 'fBodyBodyGyroJerkMag-mad()',\n",
              " 'fBodyBodyGyroJerkMag-max()',\n",
              " 'fBodyBodyGyroJerkMag-min()',\n",
              " 'fBodyBodyGyroJerkMag-sma()',\n",
              " 'fBodyBodyGyroJerkMag-energy()',\n",
              " 'fBodyBodyGyroJerkMag-iqr()',\n",
              " 'fBodyBodyGyroJerkMag-entropy()',\n",
              " 'fBodyBodyGyroJerkMag-maxInds',\n",
              " 'fBodyBodyGyroJerkMag-meanFreq()',\n",
              " 'fBodyBodyGyroJerkMag-skewness()',\n",
              " 'fBodyBodyGyroJerkMag-kurtosis()',\n",
              " 'angle(tBodyAccMean,gravity)',\n",
              " 'angle(tBodyAccJerkMean),gravityMean)',\n",
              " 'angle(tBodyGyroMean,gravityMean)',\n",
              " 'angle(tBodyGyroJerkMean,gravityMean)',\n",
              " 'angle(X,gravityMean)',\n",
              " 'angle(Y,gravityMean)',\n",
              " 'angle(Z,gravityMean)']"
            ]
          },
          "metadata": {},
          "execution_count": 3
        }
      ]
    },
    {
      "cell_type": "markdown",
      "metadata": {
        "id": "zqi2tJFRaZvV"
      },
      "source": [
        "**Activity Labels:**"
      ]
    },
    {
      "cell_type": "code",
      "metadata": {
        "colab": {
          "base_uri": "https://localhost:8080/"
        },
        "id": "Z5bp_Y0OTU8N",
        "outputId": "f8a7df02-8cc3-4dbe-df7e-184b31dc482b"
      },
      "source": [
        "classes = list()\n",
        "with open(\"activity_labels.txt\") as g:\n",
        "    classes = [line.split()[1] for line in g.readlines()]    \n",
        "print(\"Number of classes: {}\".format(len(classes)))\n",
        "classes\n",
        "activity_labels_df = pd.read_fwf(\"activity_labels.txt\",header=None,sep=\" \")\n",
        "activity_labels_df.columns =['Class Number', 'Class Name']\n",
        "\n",
        "print(activity_labels_df)"
      ],
      "execution_count": null,
      "outputs": [
        {
          "output_type": "stream",
          "name": "stdout",
          "text": [
            "Number of classes: 6\n",
            "   Class Number          Class Name\n",
            "0             1             WALKING\n",
            "1             2    WALKING_UPSTAIRS\n",
            "2             3  WALKING_DOWNSTAIRS\n",
            "3             4             SITTING\n",
            "4             5            STANDING\n",
            "5             6              LAYING\n"
          ]
        }
      ]
    },
    {
      "cell_type": "code",
      "metadata": {
        "id": "lGO3HHET-VyQ"
      },
      "source": [
        "x_train_df = pd.read_csv(\"train.csv\")\n",
        "y_train_df = pd.read_fwf(\"y_train.txt\",header=None,sep=\" \")\n",
        "x_test_df = pd.read_csv(\"test.csv\")\n",
        "y_test_df = pd.read_fwf(\"y_test.txt\",header=None,sep=\" \")"
      ],
      "execution_count": null,
      "outputs": []
    },
    {
      "cell_type": "markdown",
      "metadata": {
        "id": "Uuj51Rq9afJp"
      },
      "source": [
        "**Number of Observations per User:**"
      ]
    },
    {
      "cell_type": "code",
      "metadata": {
        "colab": {
          "base_uri": "https://localhost:8080/",
          "height": 487
        },
        "id": "DsRjJ6mr2ex2",
        "outputId": "aae60027-6a5c-4288-fdab-0f4f7ab76e59"
      },
      "source": [
        "sns.set_style('whitegrid')\n",
        "plt.figure(figsize=(18,9))\n",
        "plt.title('Observations per User', fontsize=20)\n",
        "sns.countplot(x='subject', hue='Activity', data=x_train_df)\n",
        "plt.plot()\n",
        "# There are a total of 30 users\n",
        "# Plot of number of observations per user per activity"
      ],
      "execution_count": null,
      "outputs": [
        {
          "output_type": "execute_result",
          "data": {
            "text/plain": [
              "[]"
            ]
          },
          "metadata": {},
          "execution_count": 6
        },
        {
          "output_type": "display_data",
          "data": {
            "image/png": "[encoded data removed]",
            "text/plain": [
              "<Figure size 1296x648 with 1 Axes>"
            ]
          },
          "metadata": {}
        }
      ]
    },
    {
      "cell_type": "markdown",
      "metadata": {
        "id": "3hhcR9aUaml1"
      },
      "source": [
        "**Number of Observations per Activity:**"
      ]
    },
    {
      "cell_type": "code",
      "metadata": {
        "colab": {
          "base_uri": "https://localhost:8080/",
          "height": 337
        },
        "id": "q6M-GYvofuN0",
        "outputId": "f9329f53-0486-40ff-d0ea-12f37dd4d4f2"
      },
      "source": [
        "Dict = {}\n",
        "Dict[1] = 0\n",
        "Dict[2] = 0\n",
        "Dict[3] = 0\n",
        "Dict[4] = 0\n",
        "Dict[5] = 0\n",
        "Dict[6] = 0\n",
        "y_train_df = np.array(y_train_df)\n",
        "# print(len(y_train_df))\n",
        "for i in range(len(y_train_df)):\n",
        "  if(y_train_df[i][0]==1):\n",
        "    Dict[1] = Dict[1] + 1\n",
        "  if(y_train_df[i][0]==2):\n",
        "    Dict[2] = Dict[2] + 1\n",
        "  if(y_train_df[i][0]==3):\n",
        "    Dict[3] = Dict[3] + 1\n",
        "  if(y_train_df[i][0]==4):\n",
        "    Dict[4] = Dict[4] + 1\n",
        "  if(y_train_df[i][0]==5):\n",
        "    Dict[5] = Dict[5] + 1\n",
        "  if(y_train_df[i][0]==6):\n",
        "    Dict[6] = Dict[6] + 1\n",
        "y_test_df = np.array(y_test_df)\n",
        "# print(len(y_test_df))\n",
        "for i in range(len(y_test_df)):\n",
        "  if(y_test_df[i][0]==1):\n",
        "    Dict[1] = Dict[1] + 1\n",
        "  if(y_test_df[i][0]==2):\n",
        "    Dict[2] = Dict[2] + 1\n",
        "  if(y_test_df[i][0]==3):\n",
        "    Dict[3] = Dict[3] + 1\n",
        "  if(y_test_df[i][0]==4):\n",
        "    Dict[4] = Dict[4] + 1\n",
        "  if(y_test_df[i][0]==5):\n",
        "    Dict[5] = Dict[5] + 1\n",
        "  if(y_test_df[i][0]==6):\n",
        "    Dict[6] = Dict[6] + 1\n",
        "# print(Dict)\n",
        "# plt.title('Number of Observation per Activity', fontsize=15)\n",
        "x = [\"WALKING\",\"WALKING_UPSTAIRS\",\"WALKING_DOWNSTAIRS\",\"SITTING\",\"STANDING\",\"LAYING\"]\n",
        "y = []\n",
        "for i in range(6):\n",
        "  y.append(Dict[i+1])\n",
        "fig = plt.figure(figsize = (15, 5))\n",
        "plt.bar(x, y, color ='orange',width = 0.4)\n",
        "plt.xlabel('Activity_Name')\n",
        "plt.ylabel('Count')\n",
        "plt.title(\"Number of Observation per Activity\")\n",
        "plt.show()\n",
        "# This shows that there is no class imbalance problem.\n",
        "# As the number of inputs are nearly same for each class."
      ],
      "execution_count": null,
      "outputs": [
        {
          "output_type": "display_data",
          "data": {
            "image/png": "[encoded data removed]",
            "text/plain": [
              "<Figure size 1080x360 with 1 Axes>"
            ]
          },
          "metadata": {}
        }
      ]
    },
    {
      "cell_type": "markdown",
      "metadata": {
        "id": "CHlZbjLTaxep"
      },
      "source": [
        "**Checking Underfitting:**"
      ]
    },
    {
      "cell_type": "code",
      "metadata": {
        "colab": {
          "base_uri": "https://localhost:8080/"
        },
        "id": "0_bDNWC0aX7M",
        "outputId": "f3173d8d-54a5-497f-fab7-c50b92313c75"
      },
      "source": [
        "x_train_df.drop(x_train_df.iloc[:, 561:563], inplace = True, axis = 1)\n",
        "x_train_df_tmp = x_train_df.copy()\n",
        "y_train_df_tmp = y_train_df.copy()\n",
        "x_train_df_tmp.drop(x_train_df_tmp.index[100:7000],0,inplace=True)\n",
        "# print(x_train_df_tmp.shape)\n",
        "# print(y_train_df_tmp.shape)\n",
        "y_train_df_tmp = pd.DataFrame(y_train_df_tmp)\n",
        "# y_test_df_tmp = pd.DataFrame(y_test_df_tmp)\n",
        "y_train_df_tmp.drop(y_train_df_tmp.index[100:7000],0,inplace=True)\n",
        "# print(y_train_df_tmp.shape)\n",
        "x_test_df.drop(x_test_df.iloc[:, 561:563], inplace = True, axis = 1)\n",
        "model = LogisticRegression(random_state=0, max_iter=10000).fit(x_train_df_tmp, y_train_df_tmp.values.ravel())\n",
        "model.score(x_test_df, y_test_df)"
      ],
      "execution_count": null,
      "outputs": [
        {
          "output_type": "execute_result",
          "data": {
            "text/plain": [
              "0.7611129962673906"
            ]
          },
          "metadata": {},
          "execution_count": 10
        }
      ]
    },
    {
      "cell_type": "markdown",
      "metadata": {
        "id": "ujB9eVipa5Z_"
      },
      "source": [
        "**Test Accuracy using Logistic Regression:**"
      ]
    },
    {
      "cell_type": "code",
      "metadata": {
        "colab": {
          "base_uri": "https://localhost:8080/"
        },
        "id": "6_1zgJZYRTH4",
        "outputId": "2747670b-fdbc-4564-b2f0-a8da12cc2369"
      },
      "source": [
        "x_train_df.drop(x_train_df.iloc[:, 561:563], inplace = True, axis = 1)\n",
        "print(\"Number of patterns in train data and number of features:\")\n",
        "print(x_train_df.shape)\n",
        "y_train_df = pd.DataFrame(y_train_df)\n",
        "y_test_df = pd.DataFrame(y_test_df)\n",
        "model = LogisticRegression(random_state=0, max_iter=10000).fit(x_train_df, y_train_df.values.ravel())\n",
        "x_test_df.drop(x_test_df.iloc[:, 561:563], inplace = True, axis = 1)\n",
        "y_test_pred_df = model.predict(x_test_df)\n",
        "print(\"Test accuracy using logistic regression :\")\n",
        "model.score(x_test_df, y_test_df)"
      ],
      "execution_count": null,
      "outputs": [
        {
          "output_type": "stream",
          "name": "stdout",
          "text": [
            "Number of patterns in train data and number of features:\n",
            "(7352, 561)\n",
            "Test accuracy using logistic regression :\n"
          ]
        },
        {
          "output_type": "execute_result",
          "data": {
            "text/plain": [
              "0.9613165931455717"
            ]
          },
          "metadata": {},
          "execution_count": 11
        }
      ]
    },
    {
      "cell_type": "markdown",
      "metadata": {
        "id": "kgzWAcILbHps"
      },
      "source": [
        "**Implementing K-Fold Cross Validation for LR:**"
      ]
    },
    {
      "cell_type": "code",
      "metadata": {
        "id": "t7CU6SAMfZV1",
        "colab": {
          "base_uri": "https://localhost:8080/",
          "height": 615
        },
        "outputId": "f50a4424-1f35-4fc0-9f37-1992d0ad3ae7"
      },
      "source": [
        "kf = KFold(n_splits=5)\n",
        "kf\n",
        "x_df = x_train_df.append(x_test_df)\n",
        "y_df = y_train_df.append(y_test_df)\n",
        "# print(x_df.shape)\n",
        "# print(y_df.shape)\n",
        "total_df = pd.concat([x_df, y_df.reindex(x_df.index)], axis=1)\n",
        "# print(df.shape)\n",
        "avgAccuracy = 0\n",
        "foldNum = 1\n",
        "y = []\n",
        "for train_index, test_index in kf.split(np.array(total_df.values)):\n",
        "  trainDf = total_df.iloc[train_index]\n",
        "  testDf = total_df.iloc[test_index]\n",
        "  print('Iteration : ',foldNum)\n",
        "  a = np.array(trainDf.values)\n",
        "  X_train = a[:,0:(len(a[0])-1)]\n",
        "  y_train = a[:,len(a[0])-1]\n",
        "  X_train = pd.DataFrame(X_train)\n",
        "  y_train = pd.DataFrame(y_train)\n",
        "  model = LogisticRegression(random_state=0, max_iter=10000).fit(X_train, y_train.values.ravel())\n",
        "  b = np.array(testDf.values)\n",
        "  X_test = b[:,0:(len(b[0])-1)]\n",
        "  y_test = b[:,len(b[0])-1]\n",
        "  X_test = pd.DataFrame(X_test)\n",
        "  y_test = pd.DataFrame(y_test)\n",
        "  # model.score(X_test, y_test)\n",
        "  print(\"Accuracy = \", model.score(X_test, y_test)*100)\n",
        "  y.append(model.score(X_test, y_test)*100)\n",
        "  avgAccuracy+= model.score(X_test, y_test)\n",
        "  print('--------------')\n",
        "  foldNum+= 1\n",
        "avgAccuracy /= 5\n",
        "print('AVG Accuracy : ',avgAccuracy*100)\n",
        "\n",
        "x = [1, 2, 3, 4, 5]\n",
        "fig = plt.figure(figsize = (15, 5))\n",
        "plt.bar(x, y, color ='orange',width = 0.4)\n",
        "plt.xlabel('Iterations')\n",
        "plt.ylabel('Accuracy(%)')\n",
        "plt.title(\"Accuracy for each Iteration\")\n",
        "plt.show()"
      ],
      "execution_count": null,
      "outputs": [
        {
          "output_type": "stream",
          "name": "stdout",
          "text": [
            "Iteration :  1\n",
            "Accuracy =  95.14563106796116\n",
            "--------------\n",
            "Iteration :  2\n",
            "Accuracy =  92.96116504854369\n",
            "--------------\n",
            "Iteration :  3\n",
            "Accuracy =  97.57281553398059\n",
            "--------------\n",
            "Iteration :  4\n",
            "Accuracy =  97.03883495145631\n",
            "--------------\n",
            "Iteration :  5\n",
            "Accuracy =  96.89169499757163\n",
            "--------------\n",
            "AVG Accuracy :  95.92202831990268\n"
          ]
        },
        {
          "output_type": "display_data",
          "data": {
            "image/png": "[encoded data removed]",
            "text/plain": [
              "<Figure size 1080x360 with 1 Axes>"
            ]
          },
          "metadata": {}
        }
      ]
    },
    {
      "cell_type": "markdown",
      "metadata": {
        "id": "Dwh4f92gbQE8"
      },
      "source": [
        "**Confusion Matrix:**"
      ]
    },
    {
      "cell_type": "code",
      "metadata": {
        "colab": {
          "base_uri": "https://localhost:8080/",
          "height": 279
        },
        "id": "irbhcgTficWw",
        "outputId": "0c537444-6e1f-42e2-ce97-d7a5621073a1"
      },
      "source": [
        "plot_confusion_matrix(model, x_test_df, y_test_df)\n",
        "plt.show()"
      ],
      "execution_count": null,
      "outputs": [
        {
          "output_type": "display_data",
          "data": {
            "image/png": "[encoded data removed]",
            "text/plain": [
              "<Figure size 432x288 with 2 Axes>"
            ]
          },
          "metadata": {}
        }
      ]
    },
    {
      "cell_type": "markdown",
      "metadata": {
        "id": "ZRRIASu8bXeD"
      },
      "source": [
        "**Class wise Accuracy:**"
      ]
    },
    {
      "cell_type": "code",
      "metadata": {
        "colab": {
          "base_uri": "https://localhost:8080/",
          "height": 701
        },
        "id": "cU72Z_-fo6fR",
        "outputId": "df34aea5-fc83-42b7-8330-9f04c2c6e43e"
      },
      "source": [
        "cnf_matrix = metrics.confusion_matrix(y_test_df, y_test_pred_df)\n",
        "# cnf_matrix = cnf_matrix.astype(float)\n",
        "# print(cnf_matrix)\n",
        "class_accu_lr = []\n",
        "c = 0\n",
        "for i in range(len(cnf_matrix[0])):\n",
        "  s = 0\n",
        "  n = 0\n",
        "  for j in range(len(cnf_matrix)):\n",
        "    if(j==c):\n",
        "      n = cnf_matrix[j][i]\n",
        "    s = s + cnf_matrix[j][i]\n",
        "  class_accu_lr.append((n/s)*100)\n",
        "  c = c + 1\n",
        "print(\"class:  Accuracy:\")\n",
        "for i in range(len(class_accu_lr)):\n",
        "  print(i+1, \"     \",class_accu_lr[i])\n",
        "x = [1, 2, 3, 4, 5, 6]\n",
        "fig = plt.figure(figsize = (15, 5))\n",
        "plt.bar(x, class_accu_lr, color ='orange',width = 0.4)\n",
        "plt.xlabel('Class')\n",
        "plt.ylabel('Accuracy(%)')\n",
        "plt.title(\"Class wise Accuracy\")\n",
        "plt.show()\n",
        "\n",
        "precision = class_accu_lr.copy()\n",
        "recall = []\n",
        "c = 0\n",
        "for i in range(len(cnf_matrix)):\n",
        "  n = 0\n",
        "  s = 0\n",
        "  for j in range(len(cnf_matrix[0])):\n",
        "    if(j==c):\n",
        "      n = cnf_matrix[i][j]\n",
        "    s = s + cnf_matrix[i][j]\n",
        "  recall.append((n/s)*100)\n",
        "  c = c + 1\n",
        "\n",
        "print(\"class:  Precision:\")\n",
        "for i in range(len(precision)):\n",
        "  print(i+1, \"     \",precision[i])\n",
        "\n",
        "print(\"class:  Recall:\")\n",
        "for i in range(len(recall)):\n",
        "  print(i+1, \"     \",recall[i])"
      ],
      "execution_count": null,
      "outputs": [
        {
          "output_type": "stream",
          "name": "stdout",
          "text": [
            "class:  Accuracy:\n",
            "1       94.44444444444444\n",
            "2       96.94989106753813\n",
            "3       99.02439024390245\n",
            "4       97.51693002257336\n",
            "5       90.27777777777779\n",
            "6       100.0\n"
          ]
        },
        {
          "output_type": "display_data",
          "data": {
            "image/png": "[encoded data removed]",
            "text/plain": [
              "<Figure size 1080x360 with 1 Axes>"
            ]
          },
          "metadata": {}
        },
        {
          "output_type": "stream",
          "name": "stdout",
          "text": [
            "class:  Precision:\n",
            "1       94.44444444444444\n",
            "2       96.94989106753813\n",
            "3       99.02439024390245\n",
            "4       97.51693002257336\n",
            "5       90.27777777777779\n",
            "6       100.0\n",
            "class:  Recall:\n",
            "1       99.39516129032258\n",
            "2       94.47983014861995\n",
            "3       96.66666666666667\n",
            "4       87.9837067209776\n",
            "5       97.74436090225564\n",
            "6       100.0\n"
          ]
        }
      ]
    },
    {
      "cell_type": "markdown",
      "metadata": {
        "id": "DSJY2RYVbb3V"
      },
      "source": [
        "**Test Accuracy using Multi Layer Perceptron(MLP):**"
      ]
    },
    {
      "cell_type": "code",
      "metadata": {
        "colab": {
          "base_uri": "https://localhost:8080/"
        },
        "id": "iK9TOEyJFBD-",
        "outputId": "6c8aa7af-ba6d-497c-96b2-d5ea1c1d1b2a"
      },
      "source": [
        "mlp = MLPClassifier(max_iter=10000,hidden_layer_sizes=(1000,2000)).fit(x_train_df,y_train_df.values.ravel())\n",
        "y_test_pred_df = mlp.predict(x_test_df)\n",
        "print(\"Test Accuracy using MLP Classifier :\", mlp.score(x_test_df,y_test_df))"
      ],
      "execution_count": null,
      "outputs": [
        {
          "output_type": "stream",
          "name": "stdout",
          "text": [
            "Test Accuracy using MLP Classifier : 0.9518154054971157\n"
          ]
        }
      ]
    },
    {
      "cell_type": "markdown",
      "metadata": {
        "id": "O4o1IxqPbqLh"
      },
      "source": [
        "**Implementing K-Fold Cross Validation for MLP:**"
      ]
    },
    {
      "cell_type": "code",
      "metadata": {
        "colab": {
          "base_uri": "https://localhost:8080/",
          "height": 615
        },
        "id": "dUq2wwL6JEIj",
        "outputId": "359445a4-2165-46db-f3d5-321bdeec4a2e"
      },
      "source": [
        "kf = KFold(n_splits=5)\n",
        "kf\n",
        "x_df = x_train_df.append(x_test_df)\n",
        "y_df = y_train_df.append(y_test_df)\n",
        "# print(x_df.shape)\n",
        "# print(y_df.shape)\n",
        "total_df = pd.concat([x_df, y_df.reindex(x_df.index)], axis=1)\n",
        "# print(df.shape)\n",
        "avgAccuracy = 0\n",
        "foldNum = 1\n",
        "y = []\n",
        "for train_index, test_index in kf.split(np.array(total_df.values)):\n",
        "  trainDf = total_df.iloc[train_index]\n",
        "  testDf = total_df.iloc[test_index]\n",
        "  print('Iteration : ',foldNum)\n",
        "  a = np.array(trainDf.values)\n",
        "  X_train = a[:,0:(len(a[0])-1)]\n",
        "  y_train = a[:,len(a[0])-1]\n",
        "  X_train = pd.DataFrame(X_train)\n",
        "  y_train = pd.DataFrame(y_train)\n",
        "  mlp = MLPClassifier(max_iter=10000,hidden_layer_sizes=(1000,2000)).fit(X_train,y_train.values.ravel())\n",
        "  b = np.array(testDf.values)\n",
        "  X_test = b[:,0:(len(b[0])-1)]\n",
        "  y_test = b[:,len(b[0])-1]\n",
        "  X_test = pd.DataFrame(X_test)\n",
        "  y_test = pd.DataFrame(y_test)\n",
        "  # model.score(X_test, y_test)\n",
        "  print(\"Accuracy = \", mlp.score(X_test, y_test)*100)\n",
        "  y.append(mlp.score(X_test, y_test)*100)\n",
        "  avgAccuracy+= mlp.score(X_test, y_test)\n",
        "  print('--------------')\n",
        "  foldNum+= 1\n",
        "avgAccuracy /= 5\n",
        "print('AVG Accuracy : ',avgAccuracy*100)\n",
        "\n",
        "x = [1, 2, 3, 4, 5]\n",
        "fig = plt.figure(figsize = (15, 5))\n",
        "plt.bar(x, y, color ='orange',width = 0.4)\n",
        "plt.xlabel('Iterations')\n",
        "plt.ylabel('Accuracy(%)')\n",
        "plt.title(\"Accuracy for each Iteration\")\n",
        "plt.show()"
      ],
      "execution_count": null,
      "outputs": [
        {
          "output_type": "stream",
          "name": "stdout",
          "text": [
            "Iteration :  1\n",
            "Accuracy =  94.07766990291262\n",
            "--------------\n",
            "Iteration :  2\n",
            "Accuracy =  92.81553398058252\n",
            "--------------\n",
            "Iteration :  3\n",
            "Accuracy =  97.76699029126213\n",
            "--------------\n",
            "Iteration :  4\n",
            "Accuracy =  94.1747572815534\n",
            "--------------\n",
            "Iteration :  5\n",
            "Accuracy =  95.6289460903351\n",
            "--------------\n",
            "AVG Accuracy :  94.89277950932916\n"
          ]
        },
        {
          "output_type": "display_data",
          "data": {
            "image/png": "[encoded data removed]",
            "text/plain": [
              "<Figure size 1080x360 with 1 Axes>"
            ]
          },
          "metadata": {}
        }
      ]
    },
    {
      "cell_type": "markdown",
      "metadata": {
        "id": "I3gPZKUwb0ez"
      },
      "source": [
        "**Confusion Matrix:**"
      ]
    },
    {
      "cell_type": "code",
      "metadata": {
        "colab": {
          "base_uri": "https://localhost:8080/",
          "height": 279
        },
        "id": "bV6qrVmD4V6U",
        "outputId": "d60fcf64-6d6c-4543-ea7d-ef5a4f35311f"
      },
      "source": [
        "plot_confusion_matrix(mlp, x_test_df, y_test_df)\n",
        "plt.show()"
      ],
      "execution_count": null,
      "outputs": [
        {
          "output_type": "display_data",
          "data": {
            "image/png": "[encoded data removed]",
            "text/plain": [
              "<Figure size 432x288 with 2 Axes>"
            ]
          },
          "metadata": {}
        }
      ]
    },
    {
      "cell_type": "markdown",
      "metadata": {
        "id": "B1hkmOSdb6aO"
      },
      "source": [
        "**Class wise Accuracy:**"
      ]
    },
    {
      "cell_type": "code",
      "metadata": {
        "colab": {
          "base_uri": "https://localhost:8080/",
          "height": 701
        },
        "id": "dnlj5Cul4htE",
        "outputId": "c6ae24e2-fa13-4aee-ead0-f6d4e8186ef4"
      },
      "source": [
        "cnf_matrix = metrics.confusion_matrix(y_test_df, y_test_pred_df)\n",
        "# cnf_matrix = cnf_matrix.astype(float)\n",
        "# print(cnf_matrix)\n",
        "class_accu_mlp = []\n",
        "c = 0\n",
        "for i in range(len(cnf_matrix[0])):\n",
        "  s = 0\n",
        "  n = 0\n",
        "  for j in range(len(cnf_matrix)):\n",
        "    if(j==c):\n",
        "      n = cnf_matrix[j][i]\n",
        "    s = s + cnf_matrix[j][i]\n",
        "  class_accu_mlp.append((n/s)*100)\n",
        "  c = c + 1\n",
        "print(\"class:  Accuracy:\")\n",
        "for i in range(len(class_accu_mlp)):\n",
        "  print(i+1, \"     \",class_accu_mlp[i])\n",
        "x = [1, 2, 3, 4, 5, 6]\n",
        "fig = plt.figure(figsize = (15, 5))\n",
        "plt.bar(x, class_accu_mlp, color ='orange',width = 0.4)\n",
        "plt.xlabel('Class')\n",
        "plt.ylabel('Accuracy(%)')\n",
        "plt.title(\"Class wise Accuracy\")\n",
        "plt.show()\n",
        "\n",
        "precision = class_accu_mlp.copy()\n",
        "recall = []\n",
        "c = 0\n",
        "for i in range(len(cnf_matrix)):\n",
        "  n = 0\n",
        "  s = 0\n",
        "  for j in range(len(cnf_matrix[0])):\n",
        "    if(j==c):\n",
        "      n = cnf_matrix[i][j]\n",
        "    s = s + cnf_matrix[i][j]\n",
        "  recall.append((n/s)*100)\n",
        "  c = c + 1\n",
        "\n",
        "print(\"class:  Precision:\")\n",
        "for i in range(len(precision)):\n",
        "  print(i+1, \"     \",precision[i])\n",
        "\n",
        "print(\"class:  Recall:\")\n",
        "for i in range(len(recall)):\n",
        "  print(i+1, \"     \",recall[i])"
      ],
      "execution_count": null,
      "outputs": [
        {
          "output_type": "stream",
          "name": "stdout",
          "text": [
            "class:  Accuracy:\n",
            "1       95.10763209393346\n",
            "2       95.06437768240343\n",
            "3       96.84466019417476\n",
            "4       95.45454545454545\n",
            "5       89.49211908931699\n",
            "6       100.0\n"
          ]
        },
        {
          "output_type": "display_data",
          "data": {
            "image/png": "[encoded data removed]",
            "text/plain": [
              "<Figure size 1080x360 with 1 Axes>"
            ]
          },
          "metadata": {}
        },
        {
          "output_type": "stream",
          "name": "stdout",
          "text": [
            "class:  Precision:\n",
            "1       95.10763209393346\n",
            "2       95.06437768240343\n",
            "3       96.84466019417476\n",
            "4       95.45454545454545\n",
            "5       89.49211908931699\n",
            "6       100.0\n",
            "class:  Recall:\n",
            "1       97.98387096774194\n",
            "2       94.0552016985138\n",
            "3       95.0\n",
            "4       89.81670061099797\n",
            "5       96.05263157894737\n",
            "6       97.76536312849163\n"
          ]
        }
      ]
    },
    {
      "cell_type": "markdown",
      "metadata": {
        "id": "cjKP3g1pcDCG"
      },
      "source": [
        "**Test Accuracy using Single Layer Perceptron(SLP):**"
      ]
    },
    {
      "cell_type": "code",
      "metadata": {
        "colab": {
          "base_uri": "https://localhost:8080/"
        },
        "id": "X3-sXUXS6dFS",
        "outputId": "823993cb-838f-4826-e2ff-102eb0bb1586"
      },
      "source": [
        "slp = MLPClassifier(max_iter=10000,hidden_layer_sizes=()).fit(x_train_df,y_train_df.values.ravel())\n",
        "y_test_pred_df = slp.predict(x_test_df)\n",
        "print(\"Test Accuracy using SLP Classifier :\", slp.score(x_test_df,y_test_df))"
      ],
      "execution_count": null,
      "outputs": [
        {
          "output_type": "stream",
          "name": "stdout",
          "text": [
            "Test Accuracy using SLP Classifier : 0.9545300305395318\n"
          ]
        }
      ]
    },
    {
      "cell_type": "markdown",
      "metadata": {
        "id": "8Lblr2PlcMyU"
      },
      "source": [
        "**Implementing K-Fold Cross Validation for SLP:**"
      ]
    },
    {
      "cell_type": "code",
      "metadata": {
        "colab": {
          "base_uri": "https://localhost:8080/",
          "height": 615
        },
        "id": "9LHJ6xRw6qJ-",
        "outputId": "f266d1af-6a48-44ff-ef47-ca975305112b"
      },
      "source": [
        "kf = KFold(n_splits=5)\n",
        "kf\n",
        "x_df = x_train_df.append(x_test_df)\n",
        "y_df = y_train_df.append(y_test_df)\n",
        "# print(x_df.shape)\n",
        "# print(y_df.shape)\n",
        "total_df = pd.concat([x_df, y_df.reindex(x_df.index)], axis=1)\n",
        "# print(df.shape)\n",
        "avgAccuracy = 0\n",
        "foldNum = 1\n",
        "y = []\n",
        "for train_index, test_index in kf.split(np.array(total_df.values)):\n",
        "  trainDf = total_df.iloc[train_index]\n",
        "  testDf = total_df.iloc[test_index]\n",
        "  print('Iteration : ',foldNum)\n",
        "  a = np.array(trainDf.values)\n",
        "  X_train = a[:,0:(len(a[0])-1)]\n",
        "  y_train = a[:,len(a[0])-1]\n",
        "  X_train = pd.DataFrame(X_train)\n",
        "  y_train = pd.DataFrame(y_train)\n",
        "  slp = MLPClassifier(max_iter=10000,hidden_layer_sizes=()).fit(X_train,y_train.values.ravel())\n",
        "  b = np.array(testDf.values)\n",
        "  X_test = b[:,0:(len(b[0])-1)]\n",
        "  y_test = b[:,len(b[0])-1]\n",
        "  X_test = pd.DataFrame(X_test)\n",
        "  y_test = pd.DataFrame(y_test)\n",
        "  # model.score(X_test, y_test)\n",
        "  print(\"Accuracy = \", slp.score(X_test, y_test)*100)\n",
        "  y.append(slp.score(X_test, y_test)*100)\n",
        "  avgAccuracy+= slp.score(X_test, y_test)\n",
        "  print('--------------')\n",
        "  foldNum+= 1\n",
        "avgAccuracy /= 5\n",
        "print('AVG Accuracy : ',avgAccuracy*100)\n",
        "\n",
        "x = [1, 2, 3, 4, 5]\n",
        "fig = plt.figure(figsize = (15, 5))\n",
        "plt.bar(x, y, color ='orange',width = 0.4)\n",
        "plt.xlabel('Iterations')\n",
        "plt.ylabel('Accuracy(%)')\n",
        "plt.title(\"Accuracy for each Iteration\")\n",
        "plt.show()"
      ],
      "execution_count": null,
      "outputs": [
        {
          "output_type": "stream",
          "name": "stdout",
          "text": [
            "Iteration :  1\n",
            "Accuracy =  94.6116504854369\n",
            "--------------\n",
            "Iteration :  2\n",
            "Accuracy =  93.20388349514563\n",
            "--------------\n",
            "Iteration :  3\n",
            "Accuracy =  97.81553398058253\n",
            "--------------\n",
            "Iteration :  4\n",
            "Accuracy =  95.58252427184466\n",
            "--------------\n",
            "Iteration :  5\n",
            "Accuracy =  96.01748421563866\n",
            "--------------\n",
            "AVG Accuracy :  95.44621528972968\n"
          ]
        },
        {
          "output_type": "display_data",
          "data": {
            "image/png": "[encoded data removed]",
            "text/plain": [
              "<Figure size 1080x360 with 1 Axes>"
            ]
          },
          "metadata": {}
        }
      ]
    },
    {
      "cell_type": "markdown",
      "metadata": {
        "id": "ALmGhLwicVgw"
      },
      "source": [
        "**Confusion Matrix:**"
      ]
    },
    {
      "cell_type": "code",
      "metadata": {
        "colab": {
          "base_uri": "https://localhost:8080/",
          "height": 279
        },
        "id": "0AWmxBaO7TO8",
        "outputId": "9b2d2fb9-2fa9-4dce-dc95-3093d674187c"
      },
      "source": [
        "plot_confusion_matrix(slp, x_test_df, y_test_df)\n",
        "plt.show()"
      ],
      "execution_count": null,
      "outputs": [
        {
          "output_type": "display_data",
          "data": {
            "image/png": "[encoded data removed]",
            "text/plain": [
              "<Figure size 432x288 with 2 Axes>"
            ]
          },
          "metadata": {}
        }
      ]
    },
    {
      "cell_type": "markdown",
      "metadata": {
        "id": "fjkoNkeocaK3"
      },
      "source": [
        "**Class wise Accuracy:**"
      ]
    },
    {
      "cell_type": "code",
      "metadata": {
        "colab": {
          "base_uri": "https://localhost:8080/",
          "height": 701
        },
        "id": "Hii4c_Pk7c1b",
        "outputId": "84e55e20-6079-4fe1-e49e-b89e78179d21"
      },
      "source": [
        "cnf_matrix = metrics.confusion_matrix(y_test_df, y_test_pred_df)\n",
        "# cnf_matrix = cnf_matrix.astype(float)\n",
        "# print(cnf_matrix)\n",
        "class_accu_slp = []\n",
        "c = 0\n",
        "for i in range(len(cnf_matrix[0])):\n",
        "  s = 0\n",
        "  n = 0\n",
        "  for j in range(len(cnf_matrix)):\n",
        "    if(j==c):\n",
        "      n = cnf_matrix[j][i]\n",
        "    s = s + cnf_matrix[j][i]\n",
        "  class_accu_slp.append((n/s)*100)\n",
        "  c = c + 1\n",
        "print(\"class:  Accuracy:\")\n",
        "for i in range(len(class_accu_slp)):\n",
        "  print(i+1, \"     \",class_accu_slp[i])\n",
        "x = [1, 2, 3, 4, 5, 6]\n",
        "fig = plt.figure(figsize = (15, 5))\n",
        "plt.bar(x, class_accu_slp, color ='orange',width = 0.4)\n",
        "plt.xlabel('Class')\n",
        "plt.ylabel('Accuracy(%)')\n",
        "plt.title(\"Class wise Accuracy\")\n",
        "plt.show()\n",
        "\n",
        "precision = class_accu_slp.copy()\n",
        "recall = []\n",
        "c = 0\n",
        "for i in range(len(cnf_matrix)):\n",
        "  n = 0\n",
        "  s = 0\n",
        "  for j in range(len(cnf_matrix[0])):\n",
        "    if(j==c):\n",
        "      n = cnf_matrix[i][j]\n",
        "    s = s + cnf_matrix[i][j]\n",
        "  recall.append((n/s)*100)\n",
        "  c = c + 1\n",
        "\n",
        "print(\"class:  Precision:\")\n",
        "for i in range(len(precision)):\n",
        "  print(i+1, \"     \",precision[i])\n",
        "\n",
        "print(\"class:  Recall:\")\n",
        "for i in range(len(recall)):\n",
        "  print(i+1, \"     \",recall[i])"
      ],
      "execution_count": null,
      "outputs": [
        {
          "output_type": "stream",
          "name": "stdout",
          "text": [
            "class:  Accuracy:\n",
            "1       94.07265774378585\n",
            "2       96.29629629629629\n",
            "3       99.01960784313727\n",
            "4       94.20600858369099\n",
            "5       90.17857142857143\n",
            "6       100.0\n"
          ]
        },
        {
          "output_type": "display_data",
          "data": {
            "image/png": "[encoded data removed]",
            "text/plain": [
              "<Figure size 1080x360 with 1 Axes>"
            ]
          },
          "metadata": {}
        },
        {
          "output_type": "stream",
          "name": "stdout",
          "text": [
            "class:  Precision:\n",
            "1       94.07265774378585\n",
            "2       96.29629629629629\n",
            "3       99.01960784313727\n",
            "4       94.20600858369099\n",
            "5       90.17857142857143\n",
            "6       100.0\n",
            "class:  Recall:\n",
            "1       99.19354838709677\n",
            "2       93.84288747346072\n",
            "3       96.19047619047619\n",
            "4       89.40936863543789\n",
            "5       94.92481203007519\n",
            "6       98.88268156424581\n"
          ]
        }
      ]
    },
    {
      "cell_type": "markdown",
      "metadata": {
        "id": "WwMnEYs2cgIJ"
      },
      "source": [
        "**Comparing Accuracy using different training models:**"
      ]
    },
    {
      "cell_type": "code",
      "metadata": {
        "id": "WZDQwmvX8Ed3",
        "colab": {
          "base_uri": "https://localhost:8080/",
          "height": 475
        },
        "outputId": "83d0e79a-8163-4dfe-c6c6-51763b58a239"
      },
      "source": [
        "x = [\"Walking\", \"Walking Upstairs\", \"Walking Downstairs\", \"Sitting\", \"Standing\", \"Laying\"]\n",
        "fig = plt.figure(figsize = (15, 7))\n",
        "fig.suptitle(\"Comparison B/W Different Models\",fontweight='bold')\n",
        "plt.plot(x, class_accu_lr, label = \"LR\",color='green', linestyle='dashed', linewidth = 2,\n",
        "         marker='o', markerfacecolor='green', markersize=9)\n",
        "plt.plot(x, class_accu_mlp, label = \"MLP\",color='blue', linestyle='dashed', linewidth = 2,\n",
        "         marker='o', markerfacecolor='blue', markersize=9)\n",
        "plt.plot(x, class_accu_slp, label = \"SLP\",color='red', linestyle='dashed', linewidth = 2,\n",
        "         marker='o', markerfacecolor='red', markersize=9)\n",
        "plt.xlabel('Activity Label')\n",
        "plt.ylabel('Accuracy(%)')\n",
        "plt.legend()\n",
        "plt.show()"
      ],
      "execution_count": null,
      "outputs": [
        {
          "output_type": "display_data",
          "data": {
            "image/png": "[encoded data removed]",
            "text/plain": [
              "<Figure size 1080x504 with 1 Axes>"
            ]
          },
          "metadata": {}
        }
      ]
    }
  ]
}